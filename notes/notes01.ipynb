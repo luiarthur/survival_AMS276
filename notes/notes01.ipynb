{
 "cells": [
  {
   "cell_type": "markdown",
   "metadata": {},
   "source": [
    "$\n",
    "% Latex definitions\n",
    "% note: Ctrl-shfit-p for shortcuts menu\n",
    "\\newcommand{\\iid}{\\overset{iid}{\\sim}}\n",
    "\\newcommand{\\ind}{\\overset{ind}{\\sim}}\n",
    "\\newcommand{\\p}[1]{\\left(#1\\right)}\n",
    "\\newcommand{\\bk}[1]{\\left[#1\\right]}\n",
    "\\newcommand{\\bc}[1]{ \\left\\{#1\\right\\} }\n",
    "\\newcommand{\\abs}[1]{ \\left|#1\\right| }\n",
    "\\newcommand{\\norm}[1]{ \\left|\\left|#1\\right|\\right| }\n",
    "\\newcommand{\\E}{ \\text{E} }\n",
    "\\newcommand{\\N}{ \\mathcal N }\n",
    "\\newcommand{\\ds}{ \\displaystyle }\n",
    "$"
   ]
  },
  {
   "cell_type": "markdown",
   "metadata": {},
   "source": [
    "# Survival -- Lecture 2\n",
    "\n",
    "**Survival function:**\n",
    "$$\n",
    "S(t) = 1-F(t)\n",
    "$$\n",
    "\n",
    "**Hardzard rate:**\n",
    "$$\n",
    "\\begin{array}{rcl}\n",
    "h(t) &=& \\lim_{dt\\rightarrow 0^+} \\frac{P\\p{t\\le T < t+dt | T \\ge t}}{dt}\\\\\n",
    "h(t) &=& \\frac{f(t)}{S(t)} = \\frac{-d}{dt} \\bc{\\log(S(t))}\n",
    "\\end{array}\n",
    "$$\n",
    "for continuous $t$.\n",
    "\n",
    "Intuition: \n",
    "$$\n",
    "\\begin{array}{rcl}\n",
    "    P(\\text{die at $t$}) &=& f(t) \\\\\n",
    "    &=& P(\\text{die at $t$ and survive until $t$})\\\\\n",
    "    &=& P(\\text{die at $t$ | survive until $t$}) P(\\text{survive until $t$}) \\\\\n",
    "    &=& h(t) S(t)\n",
    "\\end{array}\n",
    "$$\n",
    "\n",
    "**Cummulative Hazard Function: **\n",
    "$$ H(t) = \\int_0^t h(u) du = -log(S(t)) $$\n",
    "\n",
    "**Mean Residual Life Function:**\n",
    "$$ mrl(t) = \\int_t^\\infty (u-t)f(u|u>t) du = \\frac{\\int_t^\\infty (u-t)f(u) du}{S(t)} = \\frac{\\int_t^\\infty S(u) du}{S(t)}$$\n",
    "\n",
    "\n",
    "\n"
   ]
  },
  {
   "cell_type": "markdown",
   "metadata": {},
   "source": [
    "## See slides\n",
    "- Discrete Survival Times\n",
    "- Censoring\n",
    "    - right censored -> observations to the right are censored\n",
    "- Sometimes the likelihood is written in terms of the hazard { h(t), H(t) } because they are easier to define\n",
    "- Kaplan Meier\n",
    "- Dirichlet process prior for $\\hat{S}(t)$"
   ]
  },
  {
   "cell_type": "markdown",
   "metadata": {},
   "source": [
    "## Exercises\n",
    "- Show that the survival function of the Weibull is $ S(t) = \\exp\\p{-\\lambda t^\\alpha} $"
   ]
  },
  {
   "cell_type": "code",
   "execution_count": null,
   "metadata": {
    "collapsed": true
   },
   "outputs": [],
   "source": []
  }
 ],
 "metadata": {
  "kernelspec": {
   "display_name": "Julia 0.4.5",
   "language": "julia",
   "name": "julia-0.4"
  },
  "language_info": {
   "file_extension": ".jl",
   "mimetype": "application/julia",
   "name": "julia",
   "version": "0.4.5"
  }
 },
 "nbformat": 4,
 "nbformat_minor": 0
}
