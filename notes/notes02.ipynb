{
 "cells": [
  {
   "cell_type": "markdown",
   "metadata": {},
   "source": [
    "Open in [nbviewer](http://nbviewer.jupyter.org/github/luiarthur/survival_AMS276/blob/master/notes/notes02.ipynb)\n",
    "$\n",
    "% Latex definitions\n",
    "% note: Ctrl-shfit-p for shortcuts menu\n",
    "\\newcommand{\\iid}{\\overset{iid}{\\sim}}\n",
    "\\newcommand{\\ind}{\\overset{ind}{\\sim}}\n",
    "\\newcommand{\\p}[1]{\\left(#1\\right)}\n",
    "\\newcommand{\\bk}[1]{\\left[#1\\right]}\n",
    "\\newcommand{\\bc}[1]{ \\left\\{#1\\right\\} }\n",
    "\\newcommand{\\abs}[1]{ \\left|#1\\right| }\n",
    "\\newcommand{\\norm}[1]{ \\left|\\left|#1\\right|\\right| }\n",
    "\\newcommand{\\E}{ \\text{E} }\n",
    "\\newcommand{\\N}{ \\mathcal N }\n",
    "\\newcommand{\\ds}{ \\displaystyle }\n",
    "$"
   ]
  },
  {
   "cell_type": "markdown",
   "metadata": {
    "collapsed": true
   },
   "source": [
    "- [Power Priors](../resources/power-prior-ibrahim.pdf)\n",
    "    - $c_0$ is the hyperparameters of the priors in the *current* study.\n",
    "- Compute (in closed form) the posterior predictive of the exponential model with gamma prior\n",
    "- Our Weibull($\\alpha,\\gamma$) has density: $\\gamma\\alpha y^{\\alpha-1}\\exp\\bc{-\\gamma y^\\alpha}$\n",
    "    - sometimes we let $\\lambda = \\log(\\gamma)$ \n",
    "    - popular for survival because hazard has in closed form\n",
    "        - $\\alpha > 1$: increasing hazard\n",
    "        - $\\alpha = 1$: constant hazard\n",
    "        - $\\alpha < 1$: decreasing hazard\n",
    "- Extreme Value Distribution\n",
    "    - $f(y|\\alpha,\\lambda) = \\alpha\\exp\\bc{\\lambda+\\alpha y - \\exp\\p{\\lambda+\\alpha y}}$ in slides\n",
    "    - $y = \\mu + \\sigma w \\Rightarrow y = -\\frac{\\lambda}{\\alpha} + \\frac{1}{\\alpha}w$\n",
    "    - $f(w) = \\exp\\bc{w-\\exp(w)}$, the standard extreme value dist."
   ]
  },
  {
   "cell_type": "markdown",
   "metadata": {},
   "source": []
  }
 ],
 "metadata": {
  "kernelspec": {
   "display_name": "Julia 0.4.5",
   "language": "julia",
   "name": "julia-0.4"
  },
  "language_info": {
   "file_extension": ".jl",
   "mimetype": "application/julia",
   "name": "julia",
   "version": "0.4.5"
  }
 },
 "nbformat": 4,
 "nbformat_minor": 0
}
